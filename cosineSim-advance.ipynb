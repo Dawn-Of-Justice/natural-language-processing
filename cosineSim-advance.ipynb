{
 "cells": [
  {
   "cell_type": "code",
   "execution_count": 4,
   "metadata": {},
   "outputs": [],
   "source": [
    "from nltk.corpus import stopwords\n",
    "from nltk.tokenize import word_tokenize\n",
    "import numpy as np"
   ]
  },
  {
   "cell_type": "code",
   "execution_count": 5,
   "metadata": {},
   "outputs": [],
   "source": [
    "def process(doc):\n",
    "    stop_words = set(stopwords.words('english'))\n",
    "    tokens = word_tokenize(doc)\n",
    "    filtered_doc = [word for word in tokens if word.lower() not in stop_words]\n",
    "    return filtered_doc"
   ]
  },
  {
   "cell_type": "code",
   "execution_count": 6,
   "metadata": {},
   "outputs": [],
   "source": [
    "def cosine_similarity(X, Y):\n",
    "    dot_product = np.dot(X, Y)\n",
    "    norm_X = np.linalg.norm(X)\n",
    "    norm_Y = np.linalg.norm(Y)\n",
    "    cosine_sim = dot_product / (norm_X * norm_Y)\n",
    "    return cosine_sim"
   ]
  },
  {
   "cell_type": "code",
   "execution_count": 9,
   "metadata": {},
   "outputs": [],
   "source": [
    "user_input = input(\"Enter a sentence: \")\n",
    "user_input_processed = process(user_input)"
   ]
  },
  {
   "cell_type": "code",
   "execution_count": 8,
   "metadata": {},
   "outputs": [],
   "source": [
    "with open('sentences.txt', 'r') as file:\n",
    "    sentences = file.readlines()\n",
    "\n",
    "max_similarity = -1\n",
    "most_similar_sentence = \"\""
   ]
  },
  {
   "cell_type": "code",
   "execution_count": 10,
   "metadata": {},
   "outputs": [],
   "source": [
    "for sentence in sentences:\n",
    "    sentence = sentence.strip()\n",
    "    processed_sentence = process(sentence)\n",
    "    word_set = set(user_input_processed).union(set(processed_sentence))\n",
    "    user_input_vector = [1 if word in user_input_processed else 0 for word in word_set]\n",
    "    sentence_vector = [1 if word in processed_sentence else 0 for word in word_set]\n",
    "    similarity = cosine_similarity(user_input_vector, sentence_vector)\n",
    "    if similarity > max_similarity:\n",
    "        max_similarity = similarity\n",
    "        most_similar_sentence = sentence"
   ]
  },
  {
   "cell_type": "code",
   "execution_count": 11,
   "metadata": {},
   "outputs": [
    {
     "name": "stdout",
     "output_type": "stream",
     "text": [
      "Most similar sentence: The sunset over the ocean was breathtaking.\n",
      "Similarity score: 0.22360679774997896\n"
     ]
    }
   ],
   "source": [
    "print(\"Most similar sentence:\", most_similar_sentence)\n",
    "print(\"Similarity score:\", max_similarity)"
   ]
  }
 ],
 "metadata": {
  "kernelspec": {
   "display_name": "Python 3",
   "language": "python",
   "name": "python3"
  },
  "language_info": {
   "codemirror_mode": {
    "name": "ipython",
    "version": 3
   },
   "file_extension": ".py",
   "mimetype": "text/x-python",
   "name": "python",
   "nbconvert_exporter": "python",
   "pygments_lexer": "ipython3",
   "version": "3.10.11"
  }
 },
 "nbformat": 4,
 "nbformat_minor": 2
}
