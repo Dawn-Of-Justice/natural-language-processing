{
 "cells": [
  {
   "cell_type": "markdown",
   "id": "b5d2c972",
   "metadata": {},
   "source": [
    "## Onehot Encoding"
   ]
  },
  {
   "cell_type": "code",
   "execution_count": 3,
   "id": "fdbb1cb7",
   "metadata": {},
   "outputs": [],
   "source": [
    "from nltk.tokenize import word_tokenize"
   ]
  },
  {
   "cell_type": "code",
   "execution_count": 4,
   "id": "a6a7a4cf",
   "metadata": {},
   "outputs": [],
   "source": [
    "# Documents\n",
    "doc1 = \"Dog bites man\"\n",
    "doc2 = \"Man bites dog\"\n",
    "doc3 = \"Dog eats meat\"\n",
    "doc4 = \"Man eats food\""
   ]
  },
  {
   "cell_type": "code",
   "execution_count": 6,
   "id": "7447e47f",
   "metadata": {},
   "outputs": [],
   "source": [
    "corpus = [doc1,doc2,doc3,doc4]\n",
    "num_doc = len(corpus)"
   ]
  },
  {
   "cell_type": "code",
   "execution_count": 28,
   "id": "3c2adfda",
   "metadata": {},
   "outputs": [],
   "source": [
    "Vocab = {}\n",
    "value = 1\n",
    "for doc in corpus:\n",
    "    token = word_tokenize(doc)\n",
    "    for word in token:\n",
    "        if word.lower() not in Vocab:\n",
    "            Vocab[word.lower()] = value\n",
    "            value += 1"
   ]
  },
  {
   "cell_type": "code",
   "execution_count": 29,
   "id": "3fb26cd7",
   "metadata": {},
   "outputs": [
    {
     "data": {
      "text/plain": [
       "{'dog': 1, 'bites': 2, 'man': 3, 'eats': 4, 'meat': 5, 'food': 6}"
      ]
     },
     "execution_count": 29,
     "metadata": {},
     "output_type": "execute_result"
    }
   ],
   "source": [
    "Vocab"
   ]
  },
  {
   "cell_type": "code",
   "execution_count": 30,
   "id": "a6d65c59",
   "metadata": {},
   "outputs": [],
   "source": [
    "OneHotEnc = []\n",
    "num_word = len(Vocab)"
   ]
  },
  {
   "cell_type": "code",
   "execution_count": 34,
   "id": "4dad93b0",
   "metadata": {},
   "outputs": [],
   "source": [
    "def vector(num_word,word):\n",
    "    pos = Vocab[word]\n",
    "    array = []\n",
    "    for i in range(num_word):\n",
    "        if i!=pos-1:\n",
    "            array.append(0)\n",
    "        else:\n",
    "            array.append(1)\n",
    "    return array"
   ]
  },
  {
   "cell_type": "code",
   "execution_count": 42,
   "id": "085f47ff",
   "metadata": {},
   "outputs": [
    {
     "name": "stdout",
     "output_type": "stream",
     "text": [
      "OneHotEncoing for 'Dog bites man'\n",
      "[[1, 0, 0, 0, 0, 0], [0, 1, 0, 0, 0, 0], [0, 0, 1, 0, 0, 0]]\n",
      "OneHotEncoing for 'Man bites dog'\n",
      "[[0, 0, 1, 0, 0, 0], [0, 1, 0, 0, 0, 0], [1, 0, 0, 0, 0, 0]]\n",
      "OneHotEncoing for 'Dog eats meat'\n",
      "[[1, 0, 0, 0, 0, 0], [0, 0, 0, 1, 0, 0], [0, 0, 0, 0, 1, 0]]\n",
      "OneHotEncoing for 'Man eats food'\n",
      "[[0, 0, 1, 0, 0, 0], [0, 0, 0, 1, 0, 0], [0, 0, 0, 0, 0, 1]]\n"
     ]
    }
   ],
   "source": [
    "for doc in corpus:\n",
    "    print(f\"OneHotEncoing for '{doc}'\")\n",
    "    token = word_tokenize(doc)\n",
    "    array = []\n",
    "    for word in token:\n",
    "        array.append(vector(num_word,word.lower()))\n",
    "    print(array)"
   ]
  }
 ],
 "metadata": {
  "kernelspec": {
   "display_name": "Python 3 (ipykernel)",
   "language": "python",
   "name": "python3"
  },
  "language_info": {
   "codemirror_mode": {
    "name": "ipython",
    "version": 3
   },
   "file_extension": ".py",
   "mimetype": "text/x-python",
   "name": "python",
   "nbconvert_exporter": "python",
   "pygments_lexer": "ipython3",
   "version": "3.9.12"
  }
 },
 "nbformat": 4,
 "nbformat_minor": 5
}
