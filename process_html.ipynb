{
 "cells": [
  {
   "cell_type": "code",
   "execution_count": 7,
   "metadata": {},
   "outputs": [],
   "source": [
    "import re\n",
    "import string\n",
    "from nltk.corpus import stopwords\n",
    "from nltk.tokenize import word_tokenize\n",
    "from nltk.stem import PorterStemmer"
   ]
  },
  {
   "cell_type": "code",
   "execution_count": 2,
   "metadata": {},
   "outputs": [],
   "source": [
    "# Sample HTML Text\n",
    "html_text = \"\"\"\n",
    "<html>\n",
    "<head><title>Sample HTML Document</title></head>\n",
    "<body>\n",
    "<p>This is a sample HTML document containing <b>bold</b> and <i>italic</i> text.</p>\n",
    "<p>We'll use NLTK to preprocess this HTML text.</p>\n",
    "</body>\n",
    "</html>\n",
    "\"\"\""
   ]
  },
  {
   "cell_type": "code",
   "execution_count": 3,
   "metadata": {},
   "outputs": [],
   "source": [
    "def process_html(html_text):\n",
    "\n",
    "    clean_text = re.sub('<[^<]+?>', '', html_text) #Used to clean the html tags\n",
    "\n",
    "    result = re.sub(r'\\s', ' ', clean_text).strip() #Used to replace escape sequence\n",
    "\n",
    "    return result"
   ]
  },
  {
   "cell_type": "code",
   "execution_count": 4,
   "metadata": {},
   "outputs": [
    {
     "name": "stdout",
     "output_type": "stream",
     "text": [
      "Sample HTML Document  This is a sample HTML document containing bold and italic text. We'll use NLTK to preprocess this HTML text.\n"
     ]
    }
   ],
   "source": [
    "processed_text = process_html(html_text)\n",
    "print(processed_text)"
   ]
  },
  {
   "cell_type": "code",
   "execution_count": 5,
   "metadata": {},
   "outputs": [
    {
     "data": {
      "text/plain": [
       "['Sample',\n",
       " 'HTML',\n",
       " 'Document',\n",
       " 'This',\n",
       " 'is',\n",
       " 'a',\n",
       " 'sample',\n",
       " 'HTML',\n",
       " 'document',\n",
       " 'containing',\n",
       " 'bold',\n",
       " 'and',\n",
       " 'italic',\n",
       " 'text',\n",
       " '.',\n",
       " 'We',\n",
       " \"'ll\",\n",
       " 'use',\n",
       " 'NLTK',\n",
       " 'to',\n",
       " 'preprocess',\n",
       " 'this',\n",
       " 'HTML',\n",
       " 'text',\n",
       " '.']"
      ]
     },
     "execution_count": 5,
     "metadata": {},
     "output_type": "execute_result"
    }
   ],
   "source": [
    "tokens = word_tokenize(processed_text)\n",
    "tokens"
   ]
  },
  {
   "cell_type": "code",
   "execution_count": 6,
   "metadata": {},
   "outputs": [
    {
     "data": {
      "text/plain": [
       "['Sample',\n",
       " 'HTML',\n",
       " 'Document',\n",
       " 'sample',\n",
       " 'HTML',\n",
       " 'document',\n",
       " 'containing',\n",
       " 'bold',\n",
       " 'italic',\n",
       " 'text',\n",
       " \"'ll\",\n",
       " 'use',\n",
       " 'NLTK',\n",
       " 'preprocess',\n",
       " 'HTML',\n",
       " 'text']"
      ]
     },
     "execution_count": 6,
     "metadata": {},
     "output_type": "execute_result"
    }
   ],
   "source": [
    "stopwords = set(stopwords.words('english'))\n",
    "punctuation = set(string.punctuation)\n",
    "filterd_tokens = [word for word in tokens if word.lower() not in stopwords and word not in punctuation]\n",
    "filterd_tokens"
   ]
  },
  {
   "cell_type": "code",
   "execution_count": 8,
   "metadata": {},
   "outputs": [
    {
     "data": {
      "text/plain": [
       "['sampl',\n",
       " 'html',\n",
       " 'document',\n",
       " 'sampl',\n",
       " 'html',\n",
       " 'document',\n",
       " 'contain',\n",
       " 'bold',\n",
       " 'ital',\n",
       " 'text',\n",
       " \"'ll\",\n",
       " 'use',\n",
       " 'nltk',\n",
       " 'preprocess',\n",
       " 'html',\n",
       " 'text']"
      ]
     },
     "execution_count": 8,
     "metadata": {},
     "output_type": "execute_result"
    }
   ],
   "source": [
    "porter_stemmer = PorterStemmer()\n",
    "stemmed_tokens = [porter_stemmer.stem(word) for word in filterd_tokens]\n",
    "stemmed_tokens"
   ]
  }
 ],
 "metadata": {
  "kernelspec": {
   "display_name": "Python 3",
   "language": "python",
   "name": "python3"
  },
  "language_info": {
   "codemirror_mode": {
    "name": "ipython",
    "version": 3
   },
   "file_extension": ".py",
   "mimetype": "text/x-python",
   "name": "python",
   "nbconvert_exporter": "python",
   "pygments_lexer": "ipython3",
   "version": "3.10.11"
  }
 },
 "nbformat": 4,
 "nbformat_minor": 2
}
