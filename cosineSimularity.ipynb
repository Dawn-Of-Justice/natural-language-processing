{
 "cells": [
  {
   "cell_type": "code",
   "execution_count": 2,
   "id": "caa42dab",
   "metadata": {},
   "outputs": [],
   "source": [
    "from nltk.corpus import stopwords \n",
    "from nltk.tokenize import word_tokenize "
   ]
  },
  {
   "cell_type": "code",
   "execution_count": 76,
   "id": "9342e48a",
   "metadata": {},
   "outputs": [],
   "source": [
    "doc1 =\"I love horror movies\"\n",
    "doc2 =\"Lights out is a horror movie\""
   ]
  },
  {
   "cell_type": "code",
   "execution_count": 77,
   "id": "b6f3c6bc",
   "metadata": {},
   "outputs": [],
   "source": [
    "stop_Word = stopwords.words('english') \n",
    "l1 =[];l2 =[] "
   ]
  },
  {
   "cell_type": "code",
   "execution_count": 78,
   "id": "350aac43",
   "metadata": {},
   "outputs": [],
   "source": [
    "def process(doc):\n",
    "    token = word_tokenize(doc)\n",
    "    filtered_doc = {word for word in token if not word in stop_Word} \n",
    "    return filtered_doc"
   ]
  },
  {
   "cell_type": "code",
   "execution_count": 79,
   "id": "6703262d",
   "metadata": {},
   "outputs": [],
   "source": [
    "vector = process(doc1).union(process(doc2)) \n",
    "for word in vector: \n",
    "\tif word in X_set: l1.append(1)\n",
    "\telse: l1.append(0) \n",
    "\tif word in Y_set: l2.append(1) \n",
    "\telse: l2.append(0) \n",
    "c = 0"
   ]
  },
  {
   "cell_type": "code",
   "execution_count": 81,
   "id": "998252fc",
   "metadata": {},
   "outputs": [
    {
     "name": "stdout",
     "output_type": "stream",
     "text": [
      "similarity btw sentence:  0.5773502691896258\n"
     ]
    }
   ],
   "source": [
    "for i in range(len(vector)): \n",
    "\t\tc+= l1[i]*l2[i] \n",
    "cosine = c / float((sum(l1)*sum(l2))**0.5) \n",
    "print(\"similarity btw sentence: \", cosine) "
   ]
  }
 ],
 "metadata": {
  "kernelspec": {
   "display_name": "Python 3 (ipykernel)",
   "language": "python",
   "name": "python3"
  },
  "language_info": {
   "codemirror_mode": {
    "name": "ipython",
    "version": 3
   },
   "file_extension": ".py",
   "mimetype": "text/x-python",
   "name": "python",
   "nbconvert_exporter": "python",
   "pygments_lexer": "ipython3",
   "version": "3.9.12"
  }
 },
 "nbformat": 4,
 "nbformat_minor": 5
}
