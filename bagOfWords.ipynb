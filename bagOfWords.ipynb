{
 "cells": [
  {
   "cell_type": "markdown",
   "metadata": {},
   "source": [
    "# Bag Of Words"
   ]
  },
  {
   "cell_type": "code",
   "execution_count": 1,
   "metadata": {},
   "outputs": [],
   "source": [
    "from nltk.tokenize import word_tokenize"
   ]
  },
  {
   "cell_type": "code",
   "execution_count": 2,
   "metadata": {},
   "outputs": [],
   "source": [
    "# Documents\n",
    "doc1 = \"Dog bites man\"\n",
    "doc2 = \"Man bites dog\"\n",
    "doc3 = \"Dog eats meat\"\n",
    "doc4 = \"Man eats food\""
   ]
  },
  {
   "cell_type": "code",
   "execution_count": 3,
   "metadata": {},
   "outputs": [],
   "source": [
    "corpus = [doc1,doc2,doc3,doc4]\n",
    "num_doc = len(corpus)"
   ]
  },
  {
   "cell_type": "code",
   "execution_count": 4,
   "metadata": {},
   "outputs": [],
   "source": [
    "Vocab = {}\n",
    "value = 1\n",
    "for doc in corpus:\n",
    "    token = word_tokenize(doc)\n",
    "    for word in token:\n",
    "        if word.lower() not in Vocab:\n",
    "            Vocab[word.lower()] = value\n",
    "            value += 1"
   ]
  },
  {
   "cell_type": "code",
   "execution_count": 5,
   "metadata": {},
   "outputs": [
    {
     "data": {
      "text/plain": [
       "{'dog': 1, 'bites': 2, 'man': 3, 'eats': 4, 'meat': 5, 'food': 6}"
      ]
     },
     "execution_count": 5,
     "metadata": {},
     "output_type": "execute_result"
    }
   ],
   "source": [
    "Vocab"
   ]
  },
  {
   "cell_type": "code",
   "execution_count": 6,
   "metadata": {},
   "outputs": [],
   "source": [
    "def empty_array(num):\n",
    "    array = []\n",
    "    for i in range(num):\n",
    "        array.append(0)\n",
    "    return array"
   ]
  },
  {
   "cell_type": "code",
   "execution_count": 7,
   "metadata": {},
   "outputs": [],
   "source": [
    "def vector_sen(sentence):\n",
    "    array = empty_array(len(Vocab))\n",
    "    for word in sentence.lower().split():\n",
    "        array[Vocab[word]-1] = 1\n",
    "    return array"
   ]
  },
  {
   "cell_type": "code",
   "execution_count": 8,
   "metadata": {},
   "outputs": [
    {
     "name": "stdout",
     "output_type": "stream",
     "text": [
      "BOW Encoding for Dog bites man\n",
      "[1, 1, 1, 0, 0, 0]\n",
      "BOW Encoding for Man bites dog\n",
      "[1, 1, 1, 0, 0, 0]\n",
      "BOW Encoding for Dog eats meat\n",
      "[1, 0, 0, 1, 1, 0]\n",
      "BOW Encoding for Man eats food\n",
      "[0, 0, 1, 1, 0, 1]\n"
     ]
    }
   ],
   "source": [
    "for doc in corpus:\n",
    "    print(f\"BOW Encoding for {doc}\")\n",
    "    print(vector_sen(doc.lower()))        "
   ]
  }
 ],
 "metadata": {
  "kernelspec": {
   "display_name": "Python 3",
   "language": "python",
   "name": "python3"
  },
  "language_info": {
   "codemirror_mode": {
    "name": "ipython",
    "version": 3
   },
   "file_extension": ".py",
   "mimetype": "text/x-python",
   "name": "python",
   "nbconvert_exporter": "python",
   "pygments_lexer": "ipython3",
   "version": "3.10.11"
  }
 },
 "nbformat": 4,
 "nbformat_minor": 2
}
